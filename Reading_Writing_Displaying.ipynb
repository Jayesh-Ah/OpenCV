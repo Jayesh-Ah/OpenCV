{
 "cells": [
  {
   "cell_type": "code",
   "execution_count": 1,
   "metadata": {},
   "outputs": [],
   "source": [
    "import cv2\n",
    "import numpy as np"
   ]
  },
  {
   "cell_type": "code",
   "execution_count": 2,
   "metadata": {},
   "outputs": [],
   "source": [
    "input = cv2.imread(r'C:\\Users\\JAYESH AHIRE\\OpenCV\\image\\Indian_Institute_of_Technology_Bombay_Logo.svg.png')    #input image, pass path of the image as a string in '' with a r before as we should use / or \\\\ instead of \\ in the path."
   ]
  },
  {
   "cell_type": "code",
   "execution_count": 3,
   "metadata": {},
   "outputs": [],
   "source": [
    "#input = cv2.resize(input,(400,400))                #resize the image to 400X400 pixels\n",
    "input = cv2.resize(input,(0,0), fx=0.5, fy=0.5)     #resize the image to half the size of initial input"
   ]
  },
  {
   "cell_type": "code",
   "execution_count": 4,
   "metadata": {},
   "outputs": [],
   "source": [
    "cv2.imshow('IITB Logo', input)           #Show image with title = '' and image variable as input image\n",
    "cv2.waitKey()                   #Wait for _ milliseconds while displaying the image, blank means wait till any key is pressed\n",
    "cv2.destroyAllWindows()         #Closes all windows, failure to place this will cause the program to hang"
   ]
  },
  {
   "cell_type": "code",
   "execution_count": 5,
   "metadata": {},
   "outputs": [
    {
     "name": "stdout",
     "output_type": "stream",
     "text": [
      "Height of image:  585 pixels\n",
      "Width of image:  600 pixels\n",
      "(585, 600, 3)\n"
     ]
    }
   ],
   "source": [
    "print(\"Height of image: \", int(input.shape[0]), \"pixels\")\n",
    "print(\"Width of image: \", int(input.shape[1]), \"pixels\")    \n",
    "print(input.shape)                                          # height*width*channels(RGB)"
   ]
  },
  {
   "cell_type": "code",
   "execution_count": 6,
   "metadata": {},
   "outputs": [
    {
     "data": {
      "text/plain": [
       "True"
      ]
     },
     "execution_count": 6,
     "metadata": {},
     "output_type": "execute_result"
    }
   ],
   "source": [
    "cv2.imwrite(\"IITB Logo.jpg\", input)         #Saves image in same folder with different extension"
   ]
  },
  {
   "cell_type": "code",
   "execution_count": null,
   "metadata": {},
   "outputs": [],
   "source": []
  }
 ],
 "metadata": {
  "kernelspec": {
   "display_name": "Python 3",
   "language": "python",
   "name": "python3"
  },
  "language_info": {
   "codemirror_mode": {
    "name": "ipython",
    "version": 3
   },
   "file_extension": ".py",
   "mimetype": "text/x-python",
   "name": "python",
   "nbconvert_exporter": "python",
   "pygments_lexer": "ipython3",
   "version": "3.12.0"
  }
 },
 "nbformat": 4,
 "nbformat_minor": 2
}
